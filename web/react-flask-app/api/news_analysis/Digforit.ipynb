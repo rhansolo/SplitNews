{
 "cells": [
  {
   "cell_type": "code",
   "execution_count": 17,
   "metadata": {},
   "outputs": [],
   "source": [
    "import requests\n",
    "import json\n",
    "from urllib.parse import urlparse\n",
    "import re\n",
    "import os"
   ]
  },
  {
   "cell_type": "code",
   "execution_count": 2,
   "metadata": {},
   "outputs": [],
   "source": [
    "subscription_key = \"82439de0d47c4c80924cdda033e1c8d0\"\n",
    "search_term = \"black lives matter\"\n",
    "search_url = \"https://splitnews.cognitiveservices.azure.com/bing/v7.0/news/search\""
   ]
  },
  {
   "cell_type": "code",
   "execution_count": 40,
   "metadata": {},
   "outputs": [],
   "source": [
    "headers = {\"Ocp-Apim-Subscription-Key\": subscription_key}\n",
    "params = {\"q\": search_term, \"textDecorations\": True, \"textFormat\": \"HTML\"}\n",
    "response = requests.get(search_url, headers=headers, params=params)\n",
    "response.raise_for_status()\n",
    "search_results = response.json()"
   ]
  },
  {
   "cell_type": "code",
   "execution_count": 56,
   "metadata": {},
   "outputs": [
    {
     "data": {
      "text/plain": [
       "['https://www.ft.com/content/fda8c04a-7737-4b17-bc80-d0ed5fa57c6c',\n",
       " 'https://www.cbsnews.com/news/black-lives-matter-protests-ensue-outside-trumps-keep-america-great-rally-in-tulsa-2020-06-20/',\n",
       " 'https://www.sfgate.com/news/article/Black-Lives-Matter-painted-at-site-of-former-15354632.php',\n",
       " 'https://www.chicagotribune.com/suburbs/buffalo-grove/ct-bgc-stevenson-students-black-lives-matter-rally-tl-0625-20200621-dmzr3ri3azbwxptflwphl3vw5q-story.html',\n",
       " 'https://www.cbsnews.com/news/pence-wouldnt-say-black-lives-matter-interview-juneteenth/',\n",
       " 'https://www.cnn.com/2020/06/20/us/9-year-old-skater-black-lives-matters-street-washington-dc-trnd/index.html',\n",
       " 'https://abcnews.go.com/US/man-arrested-threatening-shoot-black-lives-matter-protests/story?id=71359000',\n",
       " 'https://www.newsweek.com/multiple-people-stabbed-site-uk-black-lives-matter-demonstration-1512362',\n",
       " 'https://www.usatoday.com/story/sports/nba/2020/06/20/black-lives-matter-bill-russell-child-petition/3228926001/',\n",
       " 'https://sports.yahoo.com/lou-williams-asks-jerseys-black-150034563.html']"
      ]
     },
     "execution_count": 56,
     "metadata": {},
     "output_type": "execute_result"
    }
   ],
   "source": [
    "urllist = []\n",
    "for i in search_results['value']:\n",
    "    urllist.append(i['url'])\n",
    "\n",
    "urllist"
   ]
  },
  {
   "cell_type": "code",
   "execution_count": 6,
   "metadata": {},
   "outputs": [],
   "source": [
    "returnlist = []\n",
    "for i in urllist:\n",
    "    returnlist.append(urlparse(i)[1])"
   ]
  },
  {
   "cell_type": "code",
   "execution_count": 7,
   "metadata": {},
   "outputs": [
    {
     "data": {
      "text/plain": [
       "['www.ft.com',\n",
       " 'www.cbsnews.com',\n",
       " 'www.sfgate.com',\n",
       " 'www.msn.com',\n",
       " 'www.chicagotribune.com',\n",
       " 'www.cbsnews.com',\n",
       " 'abcnews.go.com',\n",
       " 'www.cnn.com',\n",
       " 'www.usatoday.com',\n",
       " 'sports.yahoo.com']"
      ]
     },
     "execution_count": 7,
     "metadata": {},
     "output_type": "execute_result"
    }
   ],
   "source": [
    "returnlist"
   ]
  },
  {
   "cell_type": "code",
   "execution_count": 52,
   "metadata": {},
   "outputs": [],
   "source": [
    "    totalinformation = []\n",
    "    for i in search_results['value']:\n",
    "        totalinformation.append(i)\n",
    "    \n",
    "    finaldict = {}\n",
    "    for i in range(len(urllist)):\n",
    "        if urllist[i] not in finaldict.keys():\n",
    "            finaldict[urllist[i]] = (totalinformation[i]['name'], totalinformation[i]['url'], totalinformation[i]['image'], 0, \"\", \"\")"
   ]
  },
  {
   "cell_type": "code",
   "execution_count": 53,
   "metadata": {},
   "outputs": [
    {
     "data": {
      "text/plain": [
       "{'https://www.ft.com/content/fda8c04a-7737-4b17-bc80-d0ed5fa57c6c': ('‘Everybody has their eyes on America’: <b>Black Lives Matter</b> goes global | Free to read',\n",
       "  'https://www.ft.com/content/fda8c04a-7737-4b17-bc80-d0ed5fa57c6c',\n",
       "  {'thumbnail': {'contentUrl': 'https://www.bing.com/th?id=ON.5C2DED710FDFED52B95A4413C5D3F8A0&pid=News',\n",
       "    'width': 700,\n",
       "    'height': 393}},\n",
       "  0,\n",
       "  '',\n",
       "  ''),\n",
       " 'https://www.cbsnews.com/news/black-lives-matter-protests-ensue-outside-trumps-keep-america-great-rally-in-tulsa-2020-06-20/': ('<b>Black Lives Matter</b> protests ensue outside Trump&#39;s &quot;Keep America Great&quot; rally in Tulsa',\n",
       "  'https://www.cbsnews.com/news/black-lives-matter-protests-ensue-outside-trumps-keep-america-great-rally-in-tulsa-2020-06-20/',\n",
       "  {'thumbnail': {'contentUrl': 'https://www.bing.com/th?id=ON.82DF2F4446CF7B6FEE897779A94EBD3E&pid=News',\n",
       "    'width': 700,\n",
       "    'height': 367}},\n",
       "  0,\n",
       "  '',\n",
       "  ''),\n",
       " 'https://www.sfgate.com/news/article/Black-Lives-Matter-painted-at-site-of-former-15354632.php': ('&#39;<b>Black Lives Matter</b>&#39; painted at site of former slave market',\n",
       "  'https://www.sfgate.com/news/article/Black-Lives-Matter-painted-at-site-of-former-15354632.php',\n",
       "  {'thumbnail': {'contentUrl': 'https://www.bing.com/th?id=ON.89DFC2AB0C3C4FEE6F33ED419A3C7209&pid=News',\n",
       "    'width': 700,\n",
       "    'height': 464}},\n",
       "  0,\n",
       "  '',\n",
       "  ''),\n",
       " 'https://www.chicagotribune.com/suburbs/buffalo-grove/ct-bgc-stevenson-students-black-lives-matter-rally-tl-0625-20200621-dmzr3ri3azbwxptflwphl3vw5q-story.html': ('Buffalo Grove area teens hold ‘immeasurably powerful’ march, rally in support of <b>Black Lives Matter</b> movement',\n",
       "  'https://www.chicagotribune.com/suburbs/buffalo-grove/ct-bgc-stevenson-students-black-lives-matter-rally-tl-0625-20200621-dmzr3ri3azbwxptflwphl3vw5q-story.html',\n",
       "  {'thumbnail': {'contentUrl': 'https://www.bing.com/th?id=ON.22EE23F0E02392DF116D15857548C682&pid=News',\n",
       "    'width': 700,\n",
       "    'height': 457}},\n",
       "  0,\n",
       "  '',\n",
       "  ''),\n",
       " 'https://www.cbsnews.com/news/pence-wouldnt-say-black-lives-matter-interview-juneteenth/': ('Pence wouldn&#39;t say &quot;<b>black lives matter</b>&quot; in interview on Juneteenth',\n",
       "  'https://www.cbsnews.com/news/pence-wouldnt-say-black-lives-matter-interview-juneteenth/',\n",
       "  {'thumbnail': {'contentUrl': 'https://www.bing.com/th?id=ON.3E0BEAF0E1DA72BB9195C34A0094D019&pid=News',\n",
       "    'width': 700,\n",
       "    'height': 367}},\n",
       "  0,\n",
       "  '',\n",
       "  ''),\n",
       " 'https://www.cnn.com/2020/06/20/us/9-year-old-skater-black-lives-matters-street-washington-dc-trnd/index.html': ('A 9-year-old figure skater performed a touching routine at the <b>Black Lives Matter</b> mural in Washington, DC',\n",
       "  'https://www.cnn.com/2020/06/20/us/9-year-old-skater-black-lives-matters-street-washington-dc-trnd/index.html',\n",
       "  {'thumbnail': {'contentUrl': 'https://www.bing.com/th?id=ON.B79CC35BDAE504EB07107A57811746AD&pid=News',\n",
       "    'width': 700,\n",
       "    'height': 393}},\n",
       "  0,\n",
       "  '',\n",
       "  ''),\n",
       " 'https://abcnews.go.com/US/man-arrested-threatening-shoot-black-lives-matter-protests/story?id=71359000': ('Man arrested after threatening to shoot &#39;everyone&#39; at <b>Black Lives Matter</b> protests: Sheriff',\n",
       "  'https://abcnews.go.com/US/man-arrested-threatening-shoot-black-lives-matter-protests/story?id=71359000',\n",
       "  {'thumbnail': {'contentUrl': 'https://www.bing.com/th?id=ON.92F17EAAD570027254E346A9E16F9EB6&pid=News',\n",
       "    'width': 700,\n",
       "    'height': 393}},\n",
       "  0,\n",
       "  '',\n",
       "  ''),\n",
       " 'https://www.newsweek.com/multiple-people-stabbed-site-uk-black-lives-matter-demonstration-1512362': ('Multiple People Stabbed at Site of U.K. <b>Black Lives Matter</b> Demonstration',\n",
       "  'https://www.newsweek.com/multiple-people-stabbed-site-uk-black-lives-matter-demonstration-1512362',\n",
       "  {'thumbnail': {'contentUrl': 'https://www.bing.com/th?id=ON.6CDB3D140BEFB8F76354CCFC27E7B449&pid=News',\n",
       "    'width': 700,\n",
       "    'height': 466}},\n",
       "  0,\n",
       "  '',\n",
       "  ''),\n",
       " 'https://www.usatoday.com/story/sports/nba/2020/06/20/black-lives-matter-bill-russell-child-petition/3228926001/': ('NBA legend Bill Russell lends support to second-grader&#39;s <b>Black Lives Matter</b> petition',\n",
       "  'https://www.usatoday.com/story/sports/nba/2020/06/20/black-lives-matter-bill-russell-child-petition/3228926001/',\n",
       "  {'thumbnail': {'contentUrl': 'https://www.bing.com/th?id=ON.C0A7ABB821E42F0A8E1D6E04DCF2A758&pid=News',\n",
       "    'width': 700,\n",
       "    'height': 393}},\n",
       "  0,\n",
       "  '',\n",
       "  ''),\n",
       " 'https://sports.yahoo.com/lou-williams-asks-jerseys-black-150034563.html': ('Lou Williams asks can jerseys say ‘<b>Black Lives Matter</b>?’ What about court?',\n",
       "  'https://sports.yahoo.com/lou-williams-asks-jerseys-black-150034563.html',\n",
       "  {'thumbnail': {'contentUrl': 'https://www.bing.com/th?id=ON.64BBF2D2379E6F11C5359F73C1F09640&pid=News',\n",
       "    'width': 700,\n",
       "    'height': 393}},\n",
       "  0,\n",
       "  '',\n",
       "  '')}"
      ]
     },
     "execution_count": 53,
     "metadata": {},
     "output_type": "execute_result"
    }
   ],
   "source": [
    "finaldict"
   ]
  },
  {
   "cell_type": "code",
   "execution_count": 54,
   "metadata": {},
   "outputs": [
    {
     "ename": "NameError",
     "evalue": "name 'fullstack' is not defined",
     "output_type": "error",
     "traceback": [
      "\u001b[1;31m---------------------------------------------------------------------------\u001b[0m",
      "\u001b[1;31mNameError\u001b[0m                                 Traceback (most recent call last)",
      "\u001b[1;32m<ipython-input-54-5f0c7c3f83dd>\u001b[0m in \u001b[0;36m<module>\u001b[1;34m\u001b[0m\n\u001b[1;32m----> 1\u001b[1;33m \u001b[1;32mfor\u001b[0m \u001b[0mi\u001b[0m \u001b[1;32min\u001b[0m \u001b[0mfullstack\u001b[0m\u001b[1;33m[\u001b[0m\u001b[1;36m0\u001b[0m\u001b[1;33m]\u001b[0m\u001b[1;33m:\u001b[0m\u001b[1;33m\u001b[0m\u001b[1;33m\u001b[0m\u001b[0m\n\u001b[0m\u001b[0;32m      2\u001b[0m     \u001b[0mfinaldict\u001b[0m\u001b[1;33m[\u001b[0m\u001b[0mi\u001b[0m\u001b[1;33m[\u001b[0m\u001b[1;34m'url'\u001b[0m\u001b[1;33m]\u001b[0m\u001b[1;33m]\u001b[0m\u001b[1;33m[\u001b[0m\u001b[1;36m3\u001b[0m\u001b[1;33m]\u001b[0m \u001b[1;33m=\u001b[0m \u001b[1;33m-\u001b[0m\u001b[1;36m1\u001b[0m\u001b[1;33m\u001b[0m\u001b[1;33m\u001b[0m\u001b[0m\n\u001b[0;32m      3\u001b[0m     \u001b[0mfinaldict\u001b[0m\u001b[1;33m[\u001b[0m\u001b[0mi\u001b[0m\u001b[1;33m[\u001b[0m\u001b[1;34m'url'\u001b[0m\u001b[1;33m]\u001b[0m\u001b[1;33m]\u001b[0m\u001b[1;33m[\u001b[0m\u001b[1;36m4\u001b[0m\u001b[1;33m]\u001b[0m \u001b[1;33m=\u001b[0m \u001b[0mtextsummarize\u001b[0m\u001b[1;33m(\u001b[0m\u001b[0mi\u001b[0m\u001b[1;33m[\u001b[0m\u001b[1;34m'body'\u001b[0m\u001b[1;33m]\u001b[0m\u001b[1;33m,\u001b[0m \u001b[1;36m.1\u001b[0m\u001b[1;33m)\u001b[0m\u001b[1;33m\u001b[0m\u001b[1;33m\u001b[0m\u001b[0m\n\u001b[0;32m      4\u001b[0m     \u001b[0mfinaldict\u001b[0m\u001b[1;33m[\u001b[0m\u001b[0mi\u001b[0m\u001b[1;33m[\u001b[0m\u001b[1;34m'url'\u001b[0m\u001b[1;33m]\u001b[0m\u001b[1;33m]\u001b[0m\u001b[1;33m[\u001b[0m\u001b[1;36m5\u001b[0m\u001b[1;33m]\u001b[0m \u001b[1;33m=\u001b[0m \u001b[0mtextsummarize\u001b[0m\u001b[1;33m(\u001b[0m\u001b[0mi\u001b[0m\u001b[1;33m[\u001b[0m\u001b[1;34m'body'\u001b[0m\u001b[1;33m]\u001b[0m\u001b[1;33m,\u001b[0m \u001b[1;36m.3\u001b[0m\u001b[1;33m)\u001b[0m\u001b[1;33m\u001b[0m\u001b[1;33m\u001b[0m\u001b[0m\n\u001b[0;32m      5\u001b[0m \u001b[1;33m\u001b[0m\u001b[0m\n",
      "\u001b[1;31mNameError\u001b[0m: name 'fullstack' is not defined"
     ]
    }
   ],
   "source": [
    "    for i in fullstack[0]:\n",
    "        finaldict[i['url']][3] = -1\n",
    "        finaldict[i['url']][4] = textsummarize(i['body'], .1)\n",
    "        finaldict[i['url']][5] = textsummarize(i['body'], .3)\n",
    "        \n",
    "    for i in fullstack[1]:\n",
    "        finaldict[i['url']][3] = 0\n",
    "        finaldict[i['url']][4] = textsummarize(i['body'], .1)\n",
    "        finaldict[i['url']][5] = textsummarize(i['body'], .3)\n",
    "\n",
    "    for i in fullstack[1]:\n",
    "        finaldict[i['url']][3] = 1\n",
    "        finaldict[i['url']][4] = textsummarize(i['body'], .1)\n",
    "        finaldict[i['url']][5] = textsummarize(i['body'], .3)"
   ]
  },
  {
   "cell_type": "code",
   "execution_count": 36,
   "metadata": {},
   "outputs": [],
   "source": [
    "\n"
   ]
  },
  {
   "cell_type": "code",
   "execution_count": 38,
   "metadata": {},
   "outputs": [],
   "source": []
  },
  {
   "cell_type": "code",
   "execution_count": 39,
   "metadata": {},
   "outputs": [],
   "source": []
  },
  {
   "cell_type": "code",
   "execution_count": null,
   "metadata": {},
   "outputs": [],
   "source": [
    "for i in "
   ]
  }
 ],
 "metadata": {
  "kernelspec": {
   "display_name": "Python 3",
   "language": "python",
   "name": "python3"
  },
  "language_info": {
   "codemirror_mode": {
    "name": "ipython",
    "version": 3
   },
   "file_extension": ".py",
   "mimetype": "text/x-python",
   "name": "python",
   "nbconvert_exporter": "python",
   "pygments_lexer": "ipython3",
   "version": "3.6.8"
  }
 },
 "nbformat": 4,
 "nbformat_minor": 2
}
