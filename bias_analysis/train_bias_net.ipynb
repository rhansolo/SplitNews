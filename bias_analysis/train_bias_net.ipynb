{
 "cells": [
  {
   "cell_type": "code",
   "execution_count": 5,
   "metadata": {},
   "outputs": [],
   "source": [
    "%reload_ext autoreload\n",
    "%autoreload 2\n",
    "%matplotlib inline\n",
    "import os\n",
    "from sklearn.model_selection import train_test_split\n",
    "import numpy as np\n",
    "# os.environ[\"CUDA_DEVICE_ORDER\"]=\"PCI_BUS_ID\";\n",
    "# os.environ[\"CUDA_VISIBLE_DEVICES\"]=\"0\";   "
   ]
  },
  {
   "cell_type": "markdown",
   "metadata": {},
   "source": [
    "# Text Classification with Hugging Face Transformers in *ktrain*\n",
    "\n",
    "As of v0.8.x, *ktrain* now includes an easy-to-use, thin wrapper to the Hugging Face transformers library for text classification."
   ]
  },
  {
   "cell_type": "markdown",
   "metadata": {},
   "source": [
    "## Load Data Into Arrays"
   ]
  },
  {
   "cell_type": "code",
   "execution_count": 6,
   "metadata": {},
   "outputs": [],
   "source": [
    "NEWS_PATH = '../news_scraper/news_articles'"
   ]
  },
  {
   "cell_type": "code",
   "execution_count": 7,
   "metadata": {},
   "outputs": [],
   "source": [
    "x = []\n",
    "y = []\n",
    "\n",
    "for topic in os.listdir(NEWS_PATH):\n",
    "    for stance in os.listdir(os.path.join(NEWS_PATH, topic)):\n",
    "        for file in os.listdir(os.path.join(NEWS_PATH, topic, stance)):\n",
    "            with open(os.path.join(NEWS_PATH, topic, stance, file), 'r') as f:\n",
    "                x.append(f.read())\n",
    "            y.append(stance)"
   ]
  },
  {
   "cell_type": "code",
   "execution_count": 8,
   "metadata": {},
   "outputs": [
    {
     "name": "stdout",
     "output_type": "stream",
     "text": [
      "Size of training set: 3610\n",
      "Size of test set: 1204\n"
     ]
    }
   ],
   "source": [
    "x_train, x_test, y_train, y_test = train_test_split(x, y, test_size=0.25, random_state=42)\n",
    "print(f'Size of training set: {len(x_train)}')\n",
    "print(f'Size of test set: {len(x_test)}')"
   ]
  },
  {
   "cell_type": "markdown",
   "metadata": {},
   "source": [
    "## STEP 1: Preprocess Data and Build a Transformer Model\n",
    "\n",
    "For `MODEL_NAME`, *ktrain* supports both the \"official\" built-in models [available here](https://huggingface.co/transformers/pretrained_models.html) and the [community-upoaded models available here](https://huggingface.co/models)."
   ]
  },
  {
   "cell_type": "code",
   "execution_count": 9,
   "metadata": {},
   "outputs": [
    {
     "name": "stdout",
     "output_type": "stream",
     "text": [
      "preprocessing train...\n",
      "language: en\n",
      "train sequence lengths:\n",
      "\tmean : 816\n",
      "\t95percentile : 2080\n",
      "\t99percentile : 3881\n"
     ]
    },
    {
     "data": {
      "text/html": [],
      "text/plain": [
       "<IPython.core.display.HTML object>"
      ]
     },
     "metadata": {},
     "output_type": "display_data"
    },
    {
     "name": "stdout",
     "output_type": "stream",
     "text": [
      "Is Multi-Label? False\n",
      "preprocessing test...\n",
      "language: en\n",
      "test sequence lengths:\n",
      "\tmean : 812\n",
      "\t95percentile : 2037\n",
      "\t99percentile : 4380\n"
     ]
    },
    {
     "data": {
      "text/html": [],
      "text/plain": [
       "<IPython.core.display.HTML object>"
      ]
     },
     "metadata": {},
     "output_type": "display_data"
    }
   ],
   "source": [
    "import ktrain\n",
    "from ktrain import text\n",
    "MODEL_NAME = 'distilbert-base-uncased'\n",
    "t = text.Transformer(MODEL_NAME, maxlen=500)\n",
    "trn = t.preprocess_train(x_train, y_train)\n",
    "val = t.preprocess_test(x_test, y_test)\n",
    "model = t.get_classifier()\n",
    "learner = ktrain.get_learner(model, train_data=trn, val_data=val, batch_size=6)"
   ]
  },
  {
   "cell_type": "markdown",
   "metadata": {},
   "source": [
    "Note that `x_train` and `x_test` are the raw texts that look like this:\n",
    "```python\n",
    "x_train = ['I hate this movie.', 'I like this movie.']\n",
    "```\n",
    "The labels are arrays in one of the following forms:\n",
    "```python\n",
    "# string labels\n",
    "y_train = ['negative', 'positive']\n",
    "# integer labels\n",
    "y_train = [0, 1]\n",
    "# multi or one-hot encoded labels\n",
    "y_train = [[1,0], [0,1]]\n",
    "```\n",
    "In the latter two cases, you must supply a `class_names` argument to the `Transformer` constructor, which tells *ktrain* how indices map to class names.  In this case, `class_names=['alt.atheism', 'comp.graphics', 'sci.med', 'soc.religion.christian']` because 0=alt.atheism, 1=comp.graphics, etc."
   ]
  },
  {
   "cell_type": "markdown",
   "metadata": {},
   "source": [
    "## STEP 2 [Optional]: Estimate a Good Learning Rate\n",
    "\n",
    "Learning rates between `2e-5` and `5e-5` tend to work well with transformer models based on papers from Google. However, we will run our learning-rate-finder for two epochs to estimate the LR on this particular dataset.\n",
    "\n",
    "As shown below, our results are consistent Google's findings."
   ]
  },
  {
   "cell_type": "code",
   "execution_count": 10,
   "metadata": {},
   "outputs": [
    {
     "name": "stdout",
     "output_type": "stream",
     "text": [
      "simulating training for different learning rates... this may take a few moments...\n",
      "Train for 601 steps\n",
      "Epoch 1/2\n",
      "601/601 [==============================] - 224s 373ms/step - loss: 1.0982 - accuracy: 0.3566\n",
      "Epoch 2/2\n",
      "601/601 [==============================] - 219s 364ms/step - loss: 1.3231 - accuracy: 0.3282\n",
      "\n",
      "\n",
      "done.\n",
      "Visually inspect loss plot and select learning rate associated with falling loss\n"
     ]
    },
    {
     "data": {
      "image/png": "[encoded data removed]",
      "text/plain": [
       "<Figure size 432x288 with 1 Axes>"
      ]
     },
     "metadata": {
      "needs_background": "light"
     },
     "output_type": "display_data"
    }
   ],
   "source": [
    "learner.lr_find(show_plot=True, max_epochs=2)"
   ]
  },
  {
   "cell_type": "markdown",
   "metadata": {},
   "source": [
    "## STEP 3: Train Model\n",
    "\n",
    "Train using a [1cycle learning rate schedule](https://arxiv.org/pdf/1803.09820.pdf)."
   ]
  },
  {
   "cell_type": "code",
   "execution_count": 11,
   "metadata": {},
   "outputs": [
    {
     "name": "stdout",
     "output_type": "stream",
     "text": [
      "\n",
      "\n",
      "begin training using onecycle policy with max lr of 8e-05...\n",
      "Train for 602 steps, validate for 38 steps\n",
      "Epoch 1/4\n",
      "602/602 [==============================] - 244s 405ms/step - loss: 1.0211 - accuracy: 0.4429 - val_loss: 0.8836 - val_accuracy: 0.5507\n",
      "Epoch 2/4\n",
      "602/602 [==============================] - 243s 404ms/step - loss: 0.8413 - accuracy: 0.6183 - val_loss: 0.9037 - val_accuracy: 0.6130\n",
      "Epoch 3/4\n",
      "602/602 [==============================] - 244s 405ms/step - loss: 0.6545 - accuracy: 0.7213 - val_loss: 0.6449 - val_accuracy: 0.7334\n",
      "Epoch 4/4\n",
      "602/602 [==============================] - 244s 405ms/step - loss: 0.3073 - accuracy: 0.8825 - val_loss: 0.6787 - val_accuracy: 0.7458\n"
     ]
    },
    {
     "data": {
      "text/plain": [
       "<tensorflow.python.keras.callbacks.History at 0x7f2d9c530390>"
      ]
     },
     "execution_count": 11,
     "metadata": {},
     "output_type": "execute_result"
    }
   ],
   "source": [
    "learner.fit_onecycle(8e-5, 4)"
   ]
  },
  {
   "cell_type": "markdown",
   "metadata": {},
   "source": [
    "## STEP 4: Evaluate/Inspect Model"
   ]
  },
  {
   "cell_type": "code",
   "execution_count": 12,
   "metadata": {},
   "outputs": [
    {
     "name": "stdout",
     "output_type": "stream",
     "text": [
      "              precision    recall  f1-score   support\n",
      "\n",
      "      center       0.76      0.79      0.77       380\n",
      "        left       0.74      0.73      0.73       407\n",
      "       right       0.74      0.72      0.73       417\n",
      "\n",
      "    accuracy                           0.75      1204\n",
      "   macro avg       0.75      0.75      0.75      1204\n",
      "weighted avg       0.75      0.75      0.75      1204\n",
      "\n"
     ]
    },
    {
     "data": {
      "text/plain": [
       "array([[301,  40,  39],\n",
       "       [ 45, 298,  64],\n",
       "       [ 52,  66, 299]])"
      ]
     },
     "execution_count": 12,
     "metadata": {},
     "output_type": "execute_result"
    }
   ],
   "source": [
    "learner.validate(class_names=t.get_classes())"
   ]
  },
  {
   "cell_type": "code",
   "execution_count": 13,
   "metadata": {},
   "outputs": [
    {
     "name": "stdout",
     "output_type": "stream",
     "text": [
      "----------\n",
      "id:1190 | loss:5.51 | true:center | pred:left)\n",
      "\n"
     ]
    }
   ],
   "source": [
    "# the one we got most wrong\n",
    "learner.view_top_losses(n=1, preproc=t)"
   ]
  },
  {
   "cell_type": "code",
   "execution_count": 14,
   "metadata": {},
   "outputs": [
    {
     "name": "stdout",
     "output_type": "stream",
     "text": [
      "Disinformation is propaganda. It can also be incredibly effective, even when we know it's not true.\n",
      "\n",
      "Almost 15 years after Stephen Colbert introduced the term \"truthiness\" into the modern lexicon, news consumers find themselves awash in a deluge of misinformation, fake news, and alternative facts. The problem is two-fold: if disinformation fits their already established worldview, people believe it. At the same time, if disinformation doesn't fit their worldview, it affects people's views of those sharing it. Either way, it contributes to widespread political divisiveness and pits Americans against each other.\n",
      "\n",
      "At this point, we're all familiar with the prevalence of misinformation online. For instance, as the Australian bushfires raged, the hashtag #arsonemergency blamed arson — not climate change — for the blazes. Researchers at Queensland University of Technology identified that many of the accounts pushing the arson narrative were trolls or bots. During the 2016 election, the Russian Internet Research Agency created hundreds of fake Facebook pages with names like \"Blacktivist,\" \"Born Liberal\" and \"Army of Jesus\". There's every reason to think they'll work from the same playbook during the 2020 election season, as evidenced by the reported recent hacking of the Ukranian gas company with ties to Hunter Biden. Facebook, used by 70 percent of American adults, recently stated the company would not attempt to sort through the veracity of claims in political advertisements.\n",
      "\n",
      "To be sure, the billions of global social media users on all platforms need to be careful with the information they consume and share. Fact-checking websites such as snopes.com or politfact.com can help discern outright falsehoods. Sites such as All Sides help illustrate how different news outlets frame their stories. For Twitter users, bot detectors such as botometer or bot sentinel allow anyone to see what conversations bots are pushing.\n",
      "\n",
      "However, the success of digital propaganda rests less on whether social media users believe the actual information and more on how these messages change people's perceptions of each other. As a social media expert at DePaul University, I research the ways that people encounter and process online information. My current projects, building on a theory of skewed information diffusion, argue that fake news isn't effective because it's convincing, it's effective because it reinforces our own assumptions and undermines our ability to respect and trust those with whom we may disagree.\n",
      "\n",
      "Bots and trolls are insidious to an influence process called social proof, the process when individuals find behaviors and beliefs more appropriate when they see other people engaging in these behaviors. Social proof plays on the desire for interpersonal connection. Yet manufactured connections can be used by disinformation campaigns to sow discord.\n",
      "\n",
      "Trolls change the perception of social proof by promoting messages they do not necessarily believe in; bots do so by amplifying messages that have little actual social consensus. When the memes and posts of disinformation campaigns align with currently held beliefs, the increased social proof can push social media users to increasingly extreme positions. If Twitter users see a hashtag such as #NancyPelosiFakeNews trending on Twitter, they may believe this trend is due to actual voter concerns with the Speaker of the House, not realizing that in the same timeframe it is also the top trending hashtag used by known trollbots.\n",
      "\n",
      "When people see others with divergent opinions sharing these low-quality memes, they view that person as uninformed and easily duped. Identifying the messages shared by others as disinformation exacerbates this problem, making people on different sides of an issue hold increasingly negative views of the other side.\n",
      "\n",
      "Dave Karpf, Associate Professor of Media and Public Affairs at George Washington University, argues that digital propaganda can affect our democracy. Citizens are unlikely to change their politics because of a bot-driven tweet storm or memes flowing from a Facebook group, but when all information can be derided as fake, it becomes difficult to have reasonable disagreements.\n",
      "\n",
      "Very troubling is that many people are particularly bad at determining the quality and truthfulness of a message when the issue is personally important. The information social media users want to share and consume the most are issues where they are ego-involved, or personally passionate. Unfortunately, when people really care about an issue, even with a message that is poorly constructed or false, people may fill in the blanks with what they already believe. This cognitive bias has little to do with overall intelligence; recent studies show ego-involvement had a greater effect than numeracy in how messages were perceived.\n",
      "\n",
      "Social media has provided a way for people and groups to be heard and connect in ways never before possible. Yet, bombardment with false information leads to an environment of mistrust. When people struggle to know if anything they see online is real, information and evidence become equally meaningless.\n",
      "\n",
      "Still, there is evidence that discernment can be a deciding factor. A recent study by researchers at Nanyang Technological University suggests that if users recognize fake news as false, they often simply ignore it.\n",
      "\n",
      "Social media users working to determine truth and falsehood, or going on a \"disinformation diet,\" will likely have little effect on the discord disinformation campaigns are attempting to sow. While the truth is important, social media users also need to be thoughtful about how they engage with others sharing different viewpoints. The purpose of disinformation campaigns is to exacerbate those divisions between people on different sides of an issue. It is important to not only seek the truth but also resist letting those campaigns falsely draw us as fellow citizens apart.\n",
      "\n",
      "Heading into the contentious 2020 election season, it is wise to be skeptical, but also understanding of the emotions supporting individual beliefs.\n",
      "\n",
      "Want more essential commentary and analysis like this delivered straight to your inbox? Sign up for The Week's \"Today's best articles\" newsletter here.\n"
     ]
    }
   ],
   "source": [
    "# understandable mistake - this sci.med post talks a lot about computer graphics\n",
    "print(x_test[1190])"
   ]
  },
  {
   "cell_type": "markdown",
   "metadata": {},
   "source": [
    "## STEP 5: Make Predictions on New Data in Deployment"
   ]
  },
  {
   "cell_type": "code",
   "execution_count": 23,
   "metadata": {},
   "outputs": [],
   "source": [
    "predictor = ktrain.get_predictor(learner.model, preproc=t)"
   ]
  },
  {
   "cell_type": "code",
   "execution_count": 95,
   "metadata": {},
   "outputs": [
    {
     "data": {
      "text/html": [],
      "text/plain": [
       "<IPython.core.display.HTML object>"
      ]
     },
     "metadata": {},
     "output_type": "display_data"
    },
    {
     "name": "stdout",
     "output_type": "stream",
     "text": [
      "[0.14560685 0.02474763 0.82964545]\n",
      "[ 0.         -0.02474763  0.82964545]\n",
      "0.804897828027606\n"
     ]
    }
   ],
   "source": [
    "from newspaper import Article\n",
    "art = Article('https://www.foxnews.com/media/gutfeld-guests-say-trump-was-comedic-genius-at-tulsa-rally-while-pence-lacked-razzmatazz')\n",
    "art.download()\n",
    "art.parse()\n",
    "\n",
    "probs = sum(predictor.predict_proba([art.text, art.text[10:], art.text[20:], art.text[30:]])) / 4\n",
    "mn = [0, -1, 1]\n",
    "print(probs)\n",
    "print(probs * mn)\n",
    "print(sum(probs * mn))"
   ]
  },
  {
   "cell_type": "code",
   "execution_count": 70,
   "metadata": {},
   "outputs": [
    {
     "data": {
      "text/plain": [
       "['center', 'left', 'right']"
      ]
     },
     "execution_count": 70,
     "metadata": {},
     "output_type": "execute_result"
    }
   ],
   "source": [
    "predictor.get_classes()"
   ]
  },
  {
   "cell_type": "code",
   "execution_count": 97,
   "metadata": {},
   "outputs": [],
   "source": [
    "predictor.save('./news_bias_predictor')"
   ]
  },
  {
   "cell_type": "code",
   "execution_count": 14,
   "metadata": {},
   "outputs": [],
   "source": [
    "reloaded_predictor = ktrain.load_predictor('/tmp/my_20newsgroup_predictor')"
   ]
  },
  {
   "cell_type": "code",
   "execution_count": 15,
   "metadata": {},
   "outputs": [
    {
     "data": {
      "text/html": [],
      "text/plain": [
       "<IPython.core.display.HTML object>"
      ]
     },
     "metadata": {},
     "output_type": "display_data"
    },
    {
     "data": {
      "text/plain": [
       "'soc.religion.christian'"
      ]
     },
     "execution_count": 15,
     "metadata": {},
     "output_type": "execute_result"
    }
   ],
   "source": [
    "reloaded_predictor.predict('Jesus Christ is the central figure of Christianity.')"
   ]
  },
  {
   "cell_type": "code",
   "execution_count": 16,
   "metadata": {},
   "outputs": [
    {
     "data": {
      "text/html": [],
      "text/plain": [
       "<IPython.core.display.HTML object>"
      ]
     },
     "metadata": {},
     "output_type": "display_data"
    },
    {
     "data": {
      "text/plain": [
       "array([1.9110834e-03, 5.9577124e-04, 4.4542018e-04, 9.9704772e-01],\n",
       "      dtype=float32)"
      ]
     },
     "execution_count": 16,
     "metadata": {},
     "output_type": "execute_result"
    }
   ],
   "source": [
    "reloaded_predictor.predict_proba('Jesus Christ is the central figure of Christianity.')"
   ]
  },
  {
   "cell_type": "code",
   "execution_count": 17,
   "metadata": {},
   "outputs": [
    {
     "data": {
      "text/plain": [
       "['alt.atheism', 'comp.graphics', 'sci.med', 'soc.religion.christian']"
      ]
     },
     "execution_count": 17,
     "metadata": {},
     "output_type": "execute_result"
    }
   ],
   "source": [
    "reloaded_predictor.get_classes()"
   ]
  },
  {
   "cell_type": "code",
   "execution_count": null,
   "metadata": {},
   "outputs": [],
   "source": []
  }
 ],
 "metadata": {
  "kernelspec": {
   "display_name": "python_ktarin",
   "language": "python",
   "name": "python_ktarin"
  },
  "language_info": {
   "codemirror_mode": {
    "name": "ipython",
    "version": 3
   },
   "file_extension": ".py",
   "mimetype": "text/x-python",
   "name": "python",
   "nbconvert_exporter": "python",
   "pygments_lexer": "ipython3",
   "version": "3.6.10"
  }
 },
 "nbformat": 4,
 "nbformat_minor": 2
}
